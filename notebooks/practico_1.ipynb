{
 "cells": [
  {
   "cell_type": "markdown",
   "metadata": {},
   "source": [
    "# Redes Neuronales 2020\n",
    "## FAMAF, UNC\n",
    "### Práctico 1"
   ]
  },
  {
   "cell_type": "code",
   "execution_count": 10,
   "metadata": {},
   "outputs": [],
   "source": [
    "import numpy as np\n",
    "import scipy as sp\n",
    "import matplotlib.pyplot as plt"
   ]
  },
  {
   "cell_type": "markdown",
   "metadata": {},
   "source": [
    "El sistema de dos ecuaciones diferenciales ordinarias definido como:\n",
    "\n",
    "$$ \\dot{C}(t)  = \\alpha C(t) - \\beta C(t) Z(t) $$\n",
    "\n",
    "$$ \\dot{Z}(t) = -\\gamma Z(t) + \\delta C(t) Z(t) $$\n",
    "\n",
    "Es conocido como **Modelo de predadores y prezas de Lotka-Volterra**. La función $C(t)$ modela el número de conejos en un ecosistema dado, y $Z(t)$ la cantidad de zorros del mismo ecosistema."
   ]
  },
  {
   "cell_type": "markdown",
   "metadata": {},
   "source": [
    "a) Construí el diagrama de flujo con las herramientas teóricas presentadas en el curso para el caso particular en que los parámetros toman los siguientes valores:\n",
    "\n",
    "$$ \\alpha = 0.1, \\beta = 0.02, \\gamma = 0.3, \\delta = 0.01 $$"
   ]
  },
  {
   "cell_type": "markdown",
   "metadata": {},
   "source": [
    "Comenzamos por definir una clase para manejar nuestros modelos:"
   ]
  },
  {
   "cell_type": "code",
   "execution_count": 37,
   "metadata": {},
   "outputs": [],
   "source": [
    "class Model:\n",
    "    \"\"\"\n",
    "    Define un simple modelo usando un sistema\n",
    "    de ecuaciones de 2 variables.\n",
    "    Toma como parámetros las dos funciones que deben ser aplicadas\n",
    "    a la hora de ser llamadas.\n",
    "    Params: \n",
    "        dC_dt, dZ_dt\n",
    "    \"\"\"\n",
    "\n",
    "    def __init__(self, dC_dt, dZ_dt):\n",
    "        self.dC_dt = dC_dt\n",
    "        self.dZ_dt = dZ_dt\n",
    "    \n",
    "    def __call__(self, c, z):\n",
    "        return (self.dC_dt(c, z), self.dZ_dt(c, z))\n",
    "\n",
    "class LotkaVolterra(Model):\n",
    "    \"\"\"\n",
    "    Define el modelo de Lotka Volterra\n",
    "    utilizando como base Model.\n",
    "    Params:\n",
    "        a, b, c, d\n",
    "    \"\"\"\n",
    "    \n",
    "    def __init__(self, a, b, c, d):\n",
    "        dC_dt = lambda c, z: (a * c) - (b * c * z)\n",
    "        dZ_dt = lambda c, z: ((-c) * z) + (d * c * z)\n",
    "        super(LotkaVolterra, self).__init__(dC_dt, dZ_dt)"
   ]
  },
  {
   "cell_type": "code",
   "execution_count": 41,
   "metadata": {},
   "outputs": [],
   "source": [
    "# crear sistema de ecuaciones con los parámetros dados\n",
    "\n",
    "lotkaVolterra = LotkaVolterra(a=.1, b=.02, c=.3, d=0.01)"
   ]
  }
 ],
 "metadata": {
  "kernelspec": {
   "display_name": "Python 3",
   "language": "python",
   "name": "python3"
  },
  "language_info": {
   "codemirror_mode": {
    "name": "ipython",
    "version": 3
   },
   "file_extension": ".py",
   "mimetype": "text/x-python",
   "name": "python",
   "nbconvert_exporter": "python",
   "pygments_lexer": "ipython3",
   "version": "3.7.5"
  }
 },
 "nbformat": 4,
 "nbformat_minor": 4
}
